{
 "cells": [
  {
   "cell_type": "code",
   "execution_count": 1,
   "metadata": {},
   "outputs": [],
   "source": [
    "import numpy as np\n",
    "import finite_diff_mode_solver as f"
   ]
  },
  {
   "cell_type": "markdown",
   "metadata": {},
   "source": [
    "# Testing of 1D Mode Solver"
   ]
  },
  {
   "cell_type": "code",
   "execution_count": 3,
   "metadata": {},
   "outputs": [],
   "source": [
    "grid_size = 100\n",
    "number_points = 100\n",
    "h = grid_size / (number_points - 1)\n",
    "lam = 0.78\n",
    "k0 = 2 * np.pi / lam\n",
    "e_substrate = 1.5**2\n",
    "delta_e = 1.5e-2\n",
    "w = 15.0\n",
    "\n",
    "x = np.linspace(-grid_size / 2, grid_size / 2, number_points)\n",
    "prm = e_substrate + delta_e * np.exp(- (x / w) ** 2)"
   ]
  },
  {
   "cell_type": "code",
   "execution_count": 4,
   "metadata": {},
   "outputs": [
    {
     "name": "stdout",
     "output_type": "stream",
     "text": [
      "[[2.21979168 0.01510427 0.         ... 0.         0.         0.        ]\n",
      " [0.01510427 2.2197918  0.01510427 ... 0.         0.         0.        ]\n",
      " [0.         0.01510427 2.21979199 ... 0.         0.         0.        ]\n",
      " ...\n",
      " [0.         0.         0.         ... 2.21979199 0.01510427 0.        ]\n",
      " [0.         0.         0.         ... 0.01510427 2.2197918  0.01510427]\n",
      " [0.         0.         0.         ... 0.         0.01510427 2.21979168]]\n"
     ]
    }
   ],
   "source": [
    "print(f.guided_modes_1DTE(prm, k0, h))"
   ]
  },
  {
   "cell_type": "code",
   "execution_count": null,
   "metadata": {},
   "outputs": [],
   "source": []
  }
 ],
 "metadata": {
  "kernelspec": {
   "display_name": "Python 3",
   "language": "python",
   "name": "python3"
  },
  "language_info": {
   "codemirror_mode": {
    "name": "ipython",
    "version": 3
   },
   "file_extension": ".py",
   "mimetype": "text/x-python",
   "name": "python",
   "nbconvert_exporter": "python",
   "pygments_lexer": "ipython3",
   "version": "3.8.2"
  }
 },
 "nbformat": 4,
 "nbformat_minor": 2
}
